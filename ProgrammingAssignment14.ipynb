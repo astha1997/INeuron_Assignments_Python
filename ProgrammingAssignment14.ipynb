{
 "cells": [
  {
   "cell_type": "markdown",
   "id": "7119caf2-8be5-4635-b20e-b88e6458bf17",
   "metadata": {},
   "source": [
    "Question 1:\n",
    "\n",
    "Define a class with a generator which can iterate the numbers, which are divisible by 7, between a given range 0 and n.\n",
    "\n",
    "Question 2:\n",
    "Write a program to compute the frequency of the words from the input. The output should output after sorting the key alphanumerically. \n",
    "\n",
    "Suppose the following input is supplied to the program:\n",
    "\n",
    "New to Python or choosing between Python 2 and Python 3? Read Python 2 or Python 3.\n",
    "\n",
    "Then, the output should be:\n",
    "\n",
    "2:2\n",
    "\n",
    "3.:1\n",
    "\n",
    "3?:1\n",
    "\n",
    "New:1\n",
    "\n",
    "Python:5\n",
    "\n",
    "Read:1\n",
    "\n",
    "and:1\n",
    "\n",
    "between:1\n",
    "\n",
    "choosing:1\n",
    "\n",
    "or:2\n",
    "\n",
    "to:1\n",
    "\n",
    "Question 3:\n",
    "\n",
    "\n",
    "\n",
    "Define a class Person and its two child classes: Male and Female. All classes have a method \"getGender\" which can print \"Male\" for Male class and \"Female\" for Female class.\n",
    "\n",
    "Question 4:\n",
    "Please write a program to generate all sentences where subject is in [\"I\", \"You\"] and verb is in [\"Play\", \"Love\"] and the object is in [\"Hockey\",\"Football\"].\n",
    "\n",
    "\n",
    "Question 5:\n",
    "Please write a program to compress and decompress the string \"hello world!hello world!hello world!hello world!\".\n",
    "\n",
    "Question 6:\n",
    "Please write a binary search function which searches an item in a sorted list. The function should return the index of element to be searched in the list.\n"
   ]
  },
  {
   "cell_type": "code",
   "execution_count": 1,
   "id": "202ee6fd-9f15-4c96-865d-94636ef89dca",
   "metadata": {},
   "outputs": [],
   "source": [
    "##Code 1\n",
    "\n",
    "class divbyseven:\n",
    "    def __init__(self,n):\n",
    "        self.n=n\n",
    "        \n",
    "    def generatenumbers(self):\n",
    "        for i in range (self.n+1):\n",
    "            if i % 7==0:\n",
    "                yield i\n",
    "    "
   ]
  },
  {
   "cell_type": "code",
   "execution_count": 3,
   "id": "303c4712-ae00-4fcf-831c-4dcdba42a82d",
   "metadata": {},
   "outputs": [],
   "source": [
    "s=divbyseven(50)"
   ]
  },
  {
   "cell_type": "code",
   "execution_count": 7,
   "id": "873c8c7c-e1e7-4051-8e59-f4745be6f20c",
   "metadata": {},
   "outputs": [
    {
     "name": "stdout",
     "output_type": "stream",
     "text": [
      "0\n",
      "7\n",
      "14\n",
      "21\n",
      "28\n",
      "35\n",
      "42\n",
      "49\n"
     ]
    }
   ],
   "source": [
    "a=s.generatenumbers()\n",
    "for i in a:\n",
    "    print(i)"
   ]
  },
  {
   "cell_type": "code",
   "execution_count": 14,
   "id": "20ec0be4-dc24-4418-a1b4-48c45a933901",
   "metadata": {},
   "outputs": [],
   "source": [
    "def frequency(input_string):\n",
    "    word_count={}\n",
    "    words=input_string.split()\n",
    "    \n",
    "    for word in words:\n",
    "        if word in word_count:\n",
    "            word_count[word]+=1\n",
    "        else:\n",
    "            word_count[word]=1\n",
    "    sorted_keys=sorted(word_count.keys())\n",
    "\n",
    "    for key in sorted_keys:\n",
    "        print ( key + ':' + str(word_count[key]))\n",
    "            \n",
    "            \n",
    "        \n",
    "    \n",
    "    "
   ]
  },
  {
   "cell_type": "code",
   "execution_count": 15,
   "id": "cc3b550c-54d6-4d67-8f3d-f632a721cf9d",
   "metadata": {},
   "outputs": [
    {
     "name": "stdout",
     "output_type": "stream",
     "text": [
      "2:2\n",
      "3:1\n",
      "3?:1\n",
      "New:1\n",
      "Python:5\n",
      "Read:1\n",
      "and:1\n",
      "between:1\n",
      "choosing:1\n",
      "or:2\n",
      "to:1\n"
     ]
    }
   ],
   "source": [
    "frequency('New to Python or choosing between Python 2 and Python 3? Read Python 2 or Python 3')"
   ]
  },
  {
   "cell_type": "code",
   "execution_count": 20,
   "id": "39e1bc54-7507-406c-a298-fdd4dd415245",
   "metadata": {},
   "outputs": [],
   "source": [
    "## Define a class Person and its two child classes: Male and Female.\n",
    "##All classes have a method \"getGender\" which can print \"Male\" for Male class and \"Female\" for Female class.\n",
    "\n",
    "class person:\n",
    "    def getGender(self):\n",
    "        pass\n",
    "class Male(person):\n",
    "    def getGender(self):\n",
    "        print('Male')\n",
    "class Female(person):\n",
    "    def getGender(self):\n",
    "        print('Female')"
   ]
  },
  {
   "cell_type": "code",
   "execution_count": 21,
   "id": "78b0eec0-480c-40d3-affd-c4648713a417",
   "metadata": {},
   "outputs": [],
   "source": [
    "s=Male()"
   ]
  },
  {
   "cell_type": "code",
   "execution_count": 22,
   "id": "5290af15-e51b-4a60-974e-5c61fc622482",
   "metadata": {},
   "outputs": [
    {
     "name": "stdout",
     "output_type": "stream",
     "text": [
      "Male\n"
     ]
    }
   ],
   "source": [
    "s.getGender()"
   ]
  },
  {
   "cell_type": "code",
   "execution_count": 23,
   "id": "e0bc1046-7394-4188-8308-41fd45383567",
   "metadata": {},
   "outputs": [],
   "source": [
    "#Please write a program to generate all sentences where subject\n",
    "#is in [\"I\", \"You\"] and verb is in [\"Play\", \"Love\"] and the object is in [\"Hockey\",\"Football\"].\n",
    "\n",
    "def combine():\n",
    "    subject= [\"I\", \"You\"]\n",
    "    verb= [\"Play\", \"Love\"]\n",
    "    obj=[\"Hockey\",\"Football\"]\n",
    "    for i in subject:\n",
    "        for j in verb:\n",
    "            for k in obj:\n",
    "                print(i +' '+ j+' '+k)"
   ]
  },
  {
   "cell_type": "code",
   "execution_count": 24,
   "id": "4d6ef02c-1830-44ea-af5f-e322867e6bcb",
   "metadata": {},
   "outputs": [
    {
     "name": "stdout",
     "output_type": "stream",
     "text": [
      "I Play Hockey\n",
      "I Play Football\n",
      "I Love Hockey\n",
      "I Love Football\n",
      "You Play Hockey\n",
      "You Play Football\n",
      "You Love Hockey\n",
      "You Love Football\n"
     ]
    }
   ],
   "source": [
    "a=combine()"
   ]
  },
  {
   "cell_type": "code",
   "execution_count": 25,
   "id": "263d0f3f-b410-4802-82f9-a0813072e0fd",
   "metadata": {},
   "outputs": [
    {
     "name": "stdout",
     "output_type": "stream",
     "text": [
      "Original String: hello world!hello world!hello world!hello world!\n",
      "Compressed Data: b'\\x1f\\x8b\\x08\\x00*+Yd\\x02\\xff\\xcbH\\xcd\\xc9\\xc9W(\\xcf/\\xcaIQ\\xcc \\x82\\r\\x00\\xd3\\xe6\\xcf\\xae0\\x00\\x00\\x00'\n",
      "Decompressed String: hello world!hello world!hello world!hello world!\n"
     ]
    }
   ],
   "source": [
    "import gzip\n",
    "import io\n",
    "\n",
    "# String to compress\n",
    "original_string = \"hello world!hello world!hello world!hello world!\"\n",
    "\n",
    "# Compress the string\n",
    "compressed_data = gzip.compress(original_string.encode())\n",
    "\n",
    "# Decompress the compressed data\n",
    "decompressed_data = gzip.decompress(compressed_data).decode()\n",
    "\n",
    "# Print the results\n",
    "print(\"Original String:\", original_string)\n",
    "print(\"Compressed Data:\", compressed_data)\n",
    "print(\"Decompressed String:\", decompressed_data)"
   ]
  },
  {
   "cell_type": "code",
   "execution_count": 26,
   "id": "fc024327-8dd2-464a-8bac-81cb4b724f09",
   "metadata": {},
   "outputs": [
    {
     "name": "stdout",
     "output_type": "stream",
     "text": [
      "Index of 9 in the list: 4\n"
     ]
    }
   ],
   "source": [
    "def binary_search(arr, target):\n",
    "    low = 0\n",
    "    high = len(arr) - 1\n",
    "\n",
    "    while low <= high:\n",
    "        mid = (low + high) // 2\n",
    "\n",
    "        if arr[mid] == target:\n",
    "            return mid\n",
    "        elif arr[mid] < target:\n",
    "            low = mid + 1\n",
    "        else:\n",
    "            high = mid - 1\n",
    "\n",
    "    # If the target is not found\n",
    "    return -1\n",
    "\n",
    "\n",
    "# Example usage\n",
    "sorted_list = [1, 3, 5, 7, 9, 11, 13, 15, 17]\n",
    "target_element = 9\n",
    "\n",
    "index = binary_search(sorted_list, target_element)\n",
    "print(\"Index of\", target_element, \"in the list:\", index)"
   ]
  },
  {
   "cell_type": "code",
   "execution_count": null,
   "id": "bad0181a-f25c-4fbe-805d-608ef062ac57",
   "metadata": {},
   "outputs": [],
   "source": []
  }
 ],
 "metadata": {
  "kernelspec": {
   "display_name": "Python 3 (ipykernel)",
   "language": "python",
   "name": "python3"
  },
  "language_info": {
   "codemirror_mode": {
    "name": "ipython",
    "version": 3
   },
   "file_extension": ".py",
   "mimetype": "text/x-python",
   "name": "python",
   "nbconvert_exporter": "python",
   "pygments_lexer": "ipython3",
   "version": "3.10.6"
  }
 },
 "nbformat": 4,
 "nbformat_minor": 5
}
