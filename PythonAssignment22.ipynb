{
 "cells": [
  {
   "cell_type": "markdown",
   "id": "525c734c-2455-4306-bd09-ff9b0ce1e3ee",
   "metadata": {},
   "source": [
    "Create a function that takes a number as an argument and returns True or False depending on whether the number is symmetrical or not. A number is symmetrical when it is the same as its reverse."
   ]
  },
  {
   "cell_type": "code",
   "execution_count": 1,
   "id": "c0592d05-46d7-4dbf-a976-64ef20343582",
   "metadata": {},
   "outputs": [],
   "source": [
    "def is_symmetrical(x):\n",
    "    s=str(x)\n",
    "    rev=s[::-1]\n",
    "    if rev==s:\n",
    "        return True\n",
    "    else:\n",
    "        return False"
   ]
  },
  {
   "cell_type": "code",
   "execution_count": 2,
   "id": "59a5f774-2985-45c5-b014-0968f510b5ef",
   "metadata": {},
   "outputs": [
    {
     "data": {
      "text/plain": [
       "False"
      ]
     },
     "execution_count": 2,
     "metadata": {},
     "output_type": "execute_result"
    }
   ],
   "source": [
    "is_symmetrical(12567) "
   ]
  },
  {
   "cell_type": "code",
   "execution_count": 3,
   "id": "d0198c74-deea-4e31-9be0-60d3b67de4a5",
   "metadata": {},
   "outputs": [
    {
     "data": {
      "text/plain": [
       "True"
      ]
     },
     "execution_count": 3,
     "metadata": {},
     "output_type": "execute_result"
    }
   ],
   "source": [
    "is_symmetrical(7227)"
   ]
  },
  {
   "cell_type": "markdown",
   "id": "a83ae551-e2ea-4c37-8c69-a35831d1f3f4",
   "metadata": {},
   "source": [
    "Given a string of numbers separated by a comma and space, return the product of the numbers."
   ]
  },
  {
   "cell_type": "code",
   "execution_count": 6,
   "id": "7d0adca7-53e7-49bb-90f5-933ffabd4de8",
   "metadata": {},
   "outputs": [],
   "source": [
    "def multiply_nums(a) :\n",
    "    prod=1\n",
    "    for i in a.split(\", \"):\n",
    "        prod=prod*int(i)\n",
    "    return prod\n",
    "    "
   ]
  },
  {
   "cell_type": "code",
   "execution_count": 7,
   "id": "e20d144b-7d4f-480e-b533-48d8cc336d03",
   "metadata": {},
   "outputs": [
    {
     "data": {
      "text/plain": [
       "6"
      ]
     },
     "execution_count": 7,
     "metadata": {},
     "output_type": "execute_result"
    }
   ],
   "source": [
    "multiply_nums(\"2, 3\") "
   ]
  },
  {
   "cell_type": "code",
   "execution_count": 8,
   "id": "173b45bd-2357-487e-9c85-2cba4176ca0b",
   "metadata": {},
   "outputs": [
    {
     "data": {
      "text/plain": [
       "24"
      ]
     },
     "execution_count": 8,
     "metadata": {},
     "output_type": "execute_result"
    }
   ],
   "source": [
    "multiply_nums(\"1, 2, 3, 4\") "
   ]
  },
  {
   "cell_type": "markdown",
   "id": "646b8c93-2901-4387-8fc6-0fcd7a4662b6",
   "metadata": {},
   "source": [
    "Create a function that squares every digit of a number."
   ]
  },
  {
   "cell_type": "code",
   "execution_count": 9,
   "id": "44a09cc0-61fd-434b-afa3-f15d918095af",
   "metadata": {},
   "outputs": [],
   "source": [
    "def square_digits(a) :\n",
    "    s=''\n",
    "    for i in str(a):\n",
    "        p=1\n",
    "        p=int(i)*int(i)\n",
    "        s=s+str(p)\n",
    "    return (int(s))\n",
    "    \n",
    "        "
   ]
  },
  {
   "cell_type": "code",
   "execution_count": 10,
   "id": "a7f9ca84-695f-476c-88af-ae6316553e03",
   "metadata": {},
   "outputs": [
    {
     "data": {
      "text/plain": [
       "811181"
      ]
     },
     "execution_count": 10,
     "metadata": {},
     "output_type": "execute_result"
    }
   ],
   "source": [
    "square_digits(9119) "
   ]
  },
  {
   "cell_type": "code",
   "execution_count": 12,
   "id": "74e06e6f-2b14-42fd-9b59-ffab670b74f5",
   "metadata": {},
   "outputs": [
    {
     "data": {
      "text/plain": [
       "416649"
      ]
     },
     "execution_count": 12,
     "metadata": {},
     "output_type": "execute_result"
    }
   ],
   "source": [
    "square_digits(2483)"
   ]
  },
  {
   "cell_type": "markdown",
   "id": "1c76201f-ae16-45c2-96a4-7ece35d0f13d",
   "metadata": {},
   "source": [
    "Create a function that sorts a list and removes all duplicate items from it."
   ]
  },
  {
   "cell_type": "code",
   "execution_count": 13,
   "id": "fecd636f-e991-41b7-8566-eae6e254f5d3",
   "metadata": {},
   "outputs": [],
   "source": [
    "def setify(l):\n",
    "    l.sort()\n",
    "    s=set(l)\n",
    "    return list(s)\n",
    "    "
   ]
  },
  {
   "cell_type": "code",
   "execution_count": 14,
   "id": "15d698cc-a37b-4fe2-8cc8-8c79cfe8afe2",
   "metadata": {},
   "outputs": [
    {
     "data": {
      "text/plain": [
       "[1, 3, 5]"
      ]
     },
     "execution_count": 14,
     "metadata": {},
     "output_type": "execute_result"
    }
   ],
   "source": [
    "setify([1, 3, 3, 5, 5])"
   ]
  },
  {
   "cell_type": "code",
   "execution_count": 15,
   "id": "3d16ec4b-f4b3-4f5f-b2f2-65a22e9d3623",
   "metadata": {},
   "outputs": [
    {
     "data": {
      "text/plain": [
       "[1, 2, 3]"
      ]
     },
     "execution_count": 15,
     "metadata": {},
     "output_type": "execute_result"
    }
   ],
   "source": [
    "setify([3, 3, 3, 2, 1]) "
   ]
  },
  {
   "cell_type": "markdown",
   "id": "ba847e7d-f50d-4a12-8f07-27adfc034512",
   "metadata": {},
   "source": [
    "Create a function that returns the mean of all digits."
   ]
  },
  {
   "cell_type": "code",
   "execution_count": null,
   "id": "0011f576-26c9-4d6b-b908-7c33fead1805",
   "metadata": {},
   "outputs": [],
   "source": [
    "def mean(a) :\n",
    "    c=0\n",
    "    for i in str(a):\n",
    "        c+=1\n",
    "        sum=sum+int(i\n",
    "        \n",
    "        \n",
    "    "
   ]
  }
 ],
 "metadata": {
  "kernelspec": {
   "display_name": "Python 3 (ipykernel)",
   "language": "python",
   "name": "python3"
  },
  "language_info": {
   "codemirror_mode": {
    "name": "ipython",
    "version": 3
   },
   "file_extension": ".py",
   "mimetype": "text/x-python",
   "name": "python",
   "nbconvert_exporter": "python",
   "pygments_lexer": "ipython3",
   "version": "3.10.6"
  }
 },
 "nbformat": 4,
 "nbformat_minor": 5
}
