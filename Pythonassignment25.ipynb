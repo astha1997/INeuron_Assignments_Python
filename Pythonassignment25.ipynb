{
 "cells": [
  {
   "cell_type": "markdown",
   "id": "65b0347e-c9b1-4aad-b751-98fedef6a133",
   "metadata": {},
   "source": [
    "Create a function that takes three integer arguments (a, b, c) and returns the amount of integers which are of equal value."
   ]
  },
  {
   "cell_type": "code",
   "execution_count": 2,
   "id": "4087b642-177e-4db5-a0e7-fc63a26570a2",
   "metadata": {},
   "outputs": [],
   "source": [
    "def equal(a,b,c):\n",
    "    if a==b and b==c:\n",
    "        return 3\n",
    "    if a==b or b==c or a==c:\n",
    "        return 2\n",
    "    else:\n",
    "        return 0"
   ]
  },
  {
   "cell_type": "code",
   "execution_count": 3,
   "id": "f6789af8-ab18-4953-a1c5-0820276ebe2b",
   "metadata": {},
   "outputs": [
    {
     "data": {
      "text/plain": [
       "3"
      ]
     },
     "execution_count": 3,
     "metadata": {},
     "output_type": "execute_result"
    }
   ],
   "source": [
    "equal(2,2,2)"
   ]
  },
  {
   "cell_type": "code",
   "execution_count": 4,
   "id": "65e05ce6-7711-47dd-ab58-b1b532c09991",
   "metadata": {},
   "outputs": [
    {
     "data": {
      "text/plain": [
       "2"
      ]
     },
     "execution_count": 4,
     "metadata": {},
     "output_type": "execute_result"
    }
   ],
   "source": [
    "equal(1,2,2)"
   ]
  },
  {
   "cell_type": "code",
   "execution_count": 5,
   "id": "64e9b52f-1cbf-4650-8df6-2e36e00428ef",
   "metadata": {},
   "outputs": [
    {
     "data": {
      "text/plain": [
       "0"
      ]
     },
     "execution_count": 5,
     "metadata": {},
     "output_type": "execute_result"
    }
   ],
   "source": [
    "equal(1,2,3)\n"
   ]
  },
  {
   "cell_type": "markdown",
   "id": "8531de3b-1c17-4421-afa8-2e8029f05bd2",
   "metadata": {},
   "source": [
    "Write a function that converts a dictionary into a list of keys-values tuples.\n",
    "Examples\n",
    "dict_to_list({\n",
    "  \"D\": 1,\n",
    "  \"B\": 2,\n",
    "  \"C\": 3\n",
    "}) ➞ [(\"B\", 2), (\"C\", 3), (\"D\", 1)]\n",
    "\n",
    "dict_to_list({\n",
    "  \"likes\": 2,\n",
    "  \"dislikes\": 3,\n",
    "  \"followers\": 10\n",
    "}) ➞ [(\"dislikes\", 3), (\"followers\", 10), (\"likes\", 2)]\n",
    "Notes\n",
    "Return the elements in the list in alphabetical order.\n"
   ]
  },
  {
   "cell_type": "code",
   "execution_count": 9,
   "id": "ab14ad4d-36ce-4ca6-ac2f-efb65484faa5",
   "metadata": {},
   "outputs": [],
   "source": [
    "def dict_to_list(d):\n",
    "    final_list=[]\n",
    "    myKeys = list(d.keys())\n",
    "    myKeys.sort()\n",
    "    for i in myKeys:\n",
    "        l1=[]\n",
    "        l1=[i,d[i]]\n",
    "        t=tuple(l1)\n",
    "        final_list.append(t)\n",
    "    return final_list\n",
    "    \n",
    "    "
   ]
  },
  {
   "cell_type": "code",
   "execution_count": 10,
   "id": "0fed318c-c0ae-4f05-9da0-05bf25bb2d3b",
   "metadata": {},
   "outputs": [
    {
     "data": {
      "text/plain": [
       "[('B', 2), ('C', 3), ('D', 1)]"
      ]
     },
     "execution_count": 10,
     "metadata": {},
     "output_type": "execute_result"
    }
   ],
   "source": [
    "dict_to_list({\n",
    "  \"D\": 1,\n",
    "  \"B\": 2,\n",
    "  \"C\": 3\n",
    "})"
   ]
  },
  {
   "cell_type": "markdown",
   "id": "25bdd17a-a857-4dd8-99b4-c0f0a0b824c3",
   "metadata": {},
   "source": [
    "Write a function that creates a dictionary with each (key, value) pair being the (lower case, upper case) versions of a letter, respectively."
   ]
  },
  {
   "cell_type": "code",
   "execution_count": 15,
   "id": "d9e3da6c-5969-44cc-b667-3b7f7c7269a3",
   "metadata": {},
   "outputs": [],
   "source": [
    "def mapping(l):\n",
    "    d={}\n",
    "    for i in l:\n",
    "        d[i]=i.upper()\n",
    "    return d\n",
    "        "
   ]
  },
  {
   "cell_type": "code",
   "execution_count": 17,
   "id": "8ec307c7-b51a-4d58-b051-3785f4542174",
   "metadata": {},
   "outputs": [
    {
     "data": {
      "text/plain": [
       "{'p': 'P', 's': 'S'}"
      ]
     },
     "execution_count": 17,
     "metadata": {},
     "output_type": "execute_result"
    }
   ],
   "source": [
    "mapping([\"p\",\"s\"])"
   ]
  },
  {
   "cell_type": "markdown",
   "id": "a8049123-8bd8-4323-b7f5-52d6ba188043",
   "metadata": {},
   "source": [
    "Write a function, that replaces all vowels in a string with a specified vowel.\n",
    "Examples\n",
    "vow_replace(\"apples and bananas\", \"u\") ➞ \"upplus und bununus\"\n",
    "\n",
    "vow_replace(\"cheese casserole\", \"o\") ➞ \"chooso cossorolo\"\n",
    "\n",
    "vow_replace(\"stuffed jalapeno poppers\", \"e\") ➞ \"steffed jelepene peppers\"\n"
   ]
  },
  {
   "cell_type": "code",
   "execution_count": 39,
   "id": "40e629a6-8419-470f-985d-45d405e8dc7e",
   "metadata": {},
   "outputs": [],
   "source": [
    "def vow_replace(string , vowel):\n",
    "    x=''\n",
    "    for i in range (0, len(string)):\n",
    "        if (string[i]=='a' or string[i]=='e' or string[i]=='i' or string[i]=='o' or string[i]=='u' ):\n",
    "            a=string[i].replace(string[i],vowel)\n",
    "            \n",
    "            x=x+a\n",
    "        else:\n",
    "            x=x+string[i]\n",
    "            \n",
    "        return x\n",
    "        \n",
    "\n",
    "    "
   ]
  },
  {
   "cell_type": "code",
   "execution_count": 40,
   "id": "c80cf682-e4c1-4e88-9db3-45ebc4e4c960",
   "metadata": {},
   "outputs": [
    {
     "data": {
      "text/plain": [
       "'upplus und bununus'"
      ]
     },
     "execution_count": 40,
     "metadata": {},
     "output_type": "execute_result"
    }
   ],
   "source": [
    "vow_replace(\"apples and bananas\", \"u\") "
   ]
  },
  {
   "cell_type": "markdown",
   "id": "030a2e0f-9900-401e-8593-c1f79f524eb5",
   "metadata": {},
   "source": [
    "Create a function that takes a string as input and capitalizes a letter if its ASCII code is even and returns its lower case version if its ASCII code is odd."
   ]
  },
  {
   "cell_type": "code",
   "execution_count": 41,
   "id": "d726b62a-216d-4eb1-b4ed-791ff201d698",
   "metadata": {},
   "outputs": [],
   "source": [
    "def ascii_capitalize(string):\n",
    "    x=''\n",
    "    for i in range (0, len(string)):\n",
    "        if (ord(string[i])%2==0 ):\n",
    "            a=upper.string[i]()\n",
    "            x=x+a\n",
    "        else:\n",
    "            x=x+lower(string[i])\n",
    "            \n",
    "        return x\n",
    "        \n",
    "    "
   ]
  },
  {
   "cell_type": "code",
   "execution_count": 42,
   "id": "4d36f853-662f-480d-878f-6707b64c74e4",
   "metadata": {},
   "outputs": [
    {
     "ename": "NameError",
     "evalue": "name 'upper' is not defined",
     "output_type": "error",
     "traceback": [
      "\u001b[0;31m---------------------------------------------------------------------------\u001b[0m",
      "\u001b[0;31mNameError\u001b[0m                                 Traceback (most recent call last)",
      "Cell \u001b[0;32mIn [42], line 1\u001b[0m\n\u001b[0;32m----> 1\u001b[0m \u001b[43mascii_capitalize\u001b[49m\u001b[43m(\u001b[49m\u001b[38;5;124;43m\"\u001b[39;49m\u001b[38;5;124;43mto be or not to be!\u001b[39;49m\u001b[38;5;124;43m\"\u001b[39;49m\u001b[43m)\u001b[49m\n",
      "Cell \u001b[0;32mIn [41], line 5\u001b[0m, in \u001b[0;36mascii_capitalize\u001b[0;34m(string)\u001b[0m\n\u001b[1;32m      3\u001b[0m \u001b[38;5;28;01mfor\u001b[39;00m i \u001b[38;5;129;01min\u001b[39;00m \u001b[38;5;28mrange\u001b[39m (\u001b[38;5;241m0\u001b[39m, \u001b[38;5;28mlen\u001b[39m(string)):\n\u001b[1;32m      4\u001b[0m     \u001b[38;5;28;01mif\u001b[39;00m (\u001b[38;5;28mord\u001b[39m(string[i])\u001b[38;5;241m%\u001b[39m\u001b[38;5;241m2\u001b[39m\u001b[38;5;241m==\u001b[39m\u001b[38;5;241m0\u001b[39m ):\n\u001b[0;32m----> 5\u001b[0m         a\u001b[38;5;241m=\u001b[39m\u001b[43mupper\u001b[49m\u001b[38;5;241m.\u001b[39mstring[i]()\n\u001b[1;32m      6\u001b[0m         x\u001b[38;5;241m=\u001b[39mx\u001b[38;5;241m+\u001b[39ma\n\u001b[1;32m      7\u001b[0m     \u001b[38;5;28;01melse\u001b[39;00m:\n",
      "\u001b[0;31mNameError\u001b[0m: name 'upper' is not defined"
     ]
    }
   ],
   "source": [
    "ascii_capitalize(\"to be or not to be!\") "
   ]
  },
  {
   "cell_type": "code",
   "execution_count": null,
   "id": "daa23982-3ef6-4542-acaf-c035d3362e71",
   "metadata": {},
   "outputs": [],
   "source": []
  }
 ],
 "metadata": {
  "kernelspec": {
   "display_name": "Python 3 (ipykernel)",
   "language": "python",
   "name": "python3"
  },
  "language_info": {
   "codemirror_mode": {
    "name": "ipython",
    "version": 3
   },
   "file_extension": ".py",
   "mimetype": "text/x-python",
   "name": "python",
   "nbconvert_exporter": "python",
   "pygments_lexer": "ipython3",
   "version": "3.10.6"
  }
 },
 "nbformat": 4,
 "nbformat_minor": 5
}
