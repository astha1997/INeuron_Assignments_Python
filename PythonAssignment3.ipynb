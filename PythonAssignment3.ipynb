{
 "cells": [
  {
   "cell_type": "markdown",
   "id": "23907a98-53d5-47ce-af68-7e794b68d99d",
   "metadata": {},
   "source": [
    "1.\tWrite a Python Program to Check if a Number is Positive, Negative or Zero?\n",
    "2.\tWrite a Python Program to Check if a Number is Odd or Even?\n",
    "3.\tWrite a Python Program to Check Leap Year?\n",
    "4.\tWrite a Python Program to Check Prime Number?\n",
    "5.\tWrite a Python Program to Print all Prime Numbers in an Interval of 1-10000?\n"
   ]
  },
  {
   "cell_type": "markdown",
   "id": "377350d4-2a5f-48f0-9aa6-1b012380e489",
   "metadata": {},
   "source": [
    "1.\tWrite a Python Program to Check if a Number is Positive, Negative or Zero?"
   ]
  },
  {
   "cell_type": "code",
   "execution_count": 4,
   "id": "3718bcf0-1c8c-4d10-bbe1-0af4ac6e108d",
   "metadata": {},
   "outputs": [
    {
     "name": "stdin",
     "output_type": "stream",
     "text": [
      " 0\n"
     ]
    },
    {
     "name": "stdout",
     "output_type": "stream",
     "text": [
      "a is zero\n"
     ]
    }
   ],
   "source": [
    "a=int(input())\n",
    "if(a>0):\n",
    "    print(\"a is positive no.\")\n",
    "elif(a==0):\n",
    "    print(\"a is zero\")\n",
    "else:\n",
    "    print(\"a is negative\")"
   ]
  },
  {
   "cell_type": "markdown",
   "id": "1d790dfd-5af1-4451-b73d-8e7815e25841",
   "metadata": {},
   "source": [
    "2.\tWrite a Python Program to Check if a Number is Odd or Even?"
   ]
  },
  {
   "cell_type": "code",
   "execution_count": 6,
   "id": "ba6bc204-f86a-40c9-839e-e1199aef5b4c",
   "metadata": {},
   "outputs": [
    {
     "name": "stdin",
     "output_type": "stream",
     "text": [
      " 0\n"
     ]
    },
    {
     "name": "stdout",
     "output_type": "stream",
     "text": [
      "Number is even\n"
     ]
    }
   ],
   "source": [
    "a=int(input())\n",
    "if(a%2==0):\n",
    "    print(\"Number is even\")\n",
    "else:\n",
    "    print(\"Number is odd\")"
   ]
  },
  {
   "cell_type": "markdown",
   "id": "70aafb4a-98f5-4b60-a900-ae6fb299b2f4",
   "metadata": {},
   "source": [
    "3.\tWrite a Python Program to Check Leap Year?"
   ]
  },
  {
   "cell_type": "code",
   "execution_count": 9,
   "id": "c06e3ebc-66c7-408d-8825-ed728a41d372",
   "metadata": {},
   "outputs": [
    {
     "name": "stdin",
     "output_type": "stream",
     "text": [
      " 400\n"
     ]
    },
    {
     "name": "stdout",
     "output_type": "stream",
     "text": [
      "Year is leap year\n"
     ]
    }
   ],
   "source": [
    "year=int(input())\n",
    "if(year%100==0 and year%400==0):\n",
    "    print(\"Year is leap year\")\n",
    "elif(year%100!=0 and year%4==0):\n",
    "    print(\"Year is leap year\")\n",
    "else:\n",
    "    print(\"Year is non leap year\")  "
   ]
  },
  {
   "cell_type": "markdown",
   "id": "5b337a45-77a6-4a08-8e8b-2fcd3a903d95",
   "metadata": {},
   "source": [
    "4.\tWrite a Python Program to Check Prime Number?"
   ]
  },
  {
   "cell_type": "code",
   "execution_count": 15,
   "id": "4a63bb8a-c176-477c-a0e1-fb92b8bf3b50",
   "metadata": {},
   "outputs": [
    {
     "name": "stdout",
     "output_type": "stream",
     "text": [
      "Enter the no to check for prime\n"
     ]
    },
    {
     "name": "stdin",
     "output_type": "stream",
     "text": [
      " 1\n"
     ]
    },
    {
     "name": "stdout",
     "output_type": "stream",
     "text": [
      "No. is not prime\n"
     ]
    }
   ],
   "source": [
    "print(\"Enter the no to check for prime\")\n",
    "a=int(input())\n",
    "count=0\n",
    "for i in range (1,a+1):\n",
    "    if a%i==0:\n",
    "        count+=1\n",
    "if(count==2):\n",
    "    print(\"No is prime\")\n",
    "else:\n",
    "    print(\"No. is not prime\")"
   ]
  },
  {
   "cell_type": "markdown",
   "id": "732bd7e2-7a6d-4aa2-9b90-deaffc233fa0",
   "metadata": {},
   "source": [
    "5.\tWrite a Python Program to Print all Prime Numbers in an Interval of 1-10000?"
   ]
  },
  {
   "cell_type": "code",
   "execution_count": null,
   "id": "afd26ee8-21dc-4adb-9591-78c23a405c96",
   "metadata": {},
   "outputs": [],
   "source": [
    "for i in range (1, 10000):\n",
    "    count=0\n",
    "    for j in range (1,i+1):\n",
    "        if i%j==0:\n",
    "            count+=1\n",
    "    if(count==2"
   ]
  }
 ],
 "metadata": {
  "kernelspec": {
   "display_name": "Python 3 (ipykernel)",
   "language": "python",
   "name": "python3"
  },
  "language_info": {
   "codemirror_mode": {
    "name": "ipython",
    "version": 3
   },
   "file_extension": ".py",
   "mimetype": "text/x-python",
   "name": "python",
   "nbconvert_exporter": "python",
   "pygments_lexer": "ipython3",
   "version": "3.10.6"
  }
 },
 "nbformat": 4,
 "nbformat_minor": 5
}
