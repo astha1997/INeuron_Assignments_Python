{
 "cells": [
  {
   "cell_type": "code",
   "execution_count": 1,
   "id": "5fb8d359-6df9-48db-b80f-8526b476801e",
   "metadata": {},
   "outputs": [],
   "source": [
    "def gen(n):\n",
    "    for i in range (0,n):\n",
    "        yield i\n",
    "        "
   ]
  },
  {
   "cell_type": "markdown",
   "id": "48b822e0-05af-4896-9809-df8fc2d0a080",
   "metadata": {},
   "source": [
    "Please write a program using generator to print the numbers which can be divisible by 5 and 7 between 0 and n in comma separated form while n is input by console."
   ]
  },
  {
   "cell_type": "code",
   "execution_count": 35,
   "id": "f5164df8-065a-407d-a558-ef619b457842",
   "metadata": {},
   "outputs": [],
   "source": [
    "def div(n):\n",
    "    res=\"\"\n",
    "    for i in gen(n+1):\n",
    "        if i % 5==0 and i%7==0:\n",
    "            res=res+str(i)+\",\"\n",
    "        else:\n",
    "            continue\n",
    "    print( res[:-1])"
   ]
  },
  {
   "cell_type": "code",
   "execution_count": 36,
   "id": "e6e61201-36c1-4234-8fba-424d83400eb4",
   "metadata": {},
   "outputs": [
    {
     "name": "stdout",
     "output_type": "stream",
     "text": [
      "0,35,70\n"
     ]
    }
   ],
   "source": [
    "div(100)"
   ]
  },
  {
   "cell_type": "markdown",
   "id": "f5af21cd-9fab-4bda-af5b-59576fab0211",
   "metadata": {},
   "source": [
    "Please write a program using generator to print the even numbers between 0 and n in comma separated form while n is input by console."
   ]
  },
  {
   "cell_type": "code",
   "execution_count": 37,
   "id": "99076c11-8854-4c14-ae84-b04903b9c8c9",
   "metadata": {},
   "outputs": [],
   "source": [
    "def even(n):\n",
    "    res=\"\"\n",
    "    for i in gen(n+1):\n",
    "        if i % 2==0 :\n",
    "            res=res+str(i)+\",\"\n",
    "        else:\n",
    "            continue\n",
    "    print( res[:-1])"
   ]
  },
  {
   "cell_type": "code",
   "execution_count": 38,
   "id": "b18d15af-d123-426f-8358-7d749c8e1446",
   "metadata": {},
   "outputs": [
    {
     "name": "stdout",
     "output_type": "stream",
     "text": [
      "0,2,4,6,8,10\n"
     ]
    }
   ],
   "source": [
    "even(10)"
   ]
  },
  {
   "cell_type": "markdown",
   "id": "15eb9b49-a93e-4650-b774-473c22ef9657",
   "metadata": {},
   "source": [
    "The Fibonacci Sequence is computed based on the following formula:"
   ]
  },
  {
   "cell_type": "code",
   "execution_count": 9,
   "id": "c4541272-7f69-46b0-8b5c-4b2c3d281be7",
   "metadata": {},
   "outputs": [],
   "source": [
    "def fin(n):\n",
    "    a, b = 0, 1\n",
    "\n",
    "    for i in range(n):\n",
    "        yield a\n",
    "        a, b = b, a + b\n",
    "\n",
    "        \n",
    "\n",
    "    \n",
    "    \n",
    "        "
   ]
  },
  {
   "cell_type": "code",
   "execution_count": 16,
   "id": "42593107-ad9a-4a52-889c-611a71a54717",
   "metadata": {},
   "outputs": [
    {
     "name": "stdin",
     "output_type": "stream",
     "text": [
      "How long?  7\n"
     ]
    },
    {
     "name": "stdout",
     "output_type": "stream",
     "text": [
      "[0, 1, 1, 2, 3, 5, 8, 13]\n"
     ]
    }
   ],
   "source": [
    "ln = int(input('How long? '))\n",
    "print(list(fin(ln+1))) "
   ]
  },
  {
   "cell_type": "markdown",
   "id": "912223cb-6c00-4d46-af01-f66f2f9aaf89",
   "metadata": {},
   "source": [
    "Assuming that we have some email addresses in the \"username@companyname.com\" format, please write program to print the user name of a given email address. Both user names and company names are composed of letters only."
   ]
  },
  {
   "cell_type": "code",
   "execution_count": 17,
   "id": "6f9f1d09-1123-4944-9a2c-8b69fb98f610",
   "metadata": {},
   "outputs": [],
   "source": [
    "def user(str):\n",
    "    x=str.split('@')\n",
    "    return x[0]"
   ]
  },
  {
   "cell_type": "code",
   "execution_count": 18,
   "id": "cf8a77ec-7249-4143-9413-bcd1aa416b7c",
   "metadata": {},
   "outputs": [
    {
     "data": {
      "text/plain": [
       "'john'"
      ]
     },
     "execution_count": 18,
     "metadata": {},
     "output_type": "execute_result"
    }
   ],
   "source": [
    "user('john@google.com')"
   ]
  },
  {
   "cell_type": "markdown",
   "id": "7eac18b3-77af-4118-9b68-2063d61fa747",
   "metadata": {},
   "source": [
    "Define a class named Shape and its subclass Square. The Square class has an init function which takes a length as argument. Both classes have a area function which can print the area of the shape where Shape's area is 0 by default."
   ]
  },
  {
   "cell_type": "code",
   "execution_count": 22,
   "id": "d350181e-270f-4898-8359-f87a777e8b1b",
   "metadata": {},
   "outputs": [],
   "source": [
    "class Shape:\n",
    "    def area(self):\n",
    "        area=0\n",
    "        return area\n",
    "    \n",
    "\n",
    "    \n",
    "class Square(Shape):\n",
    "    def __init__(self,length):\n",
    "        self.length=length\n",
    "    def area(self):\n",
    "        area=self.length*self.length\n",
    "        return area\n",
    "    \n",
    "    "
   ]
  },
  {
   "cell_type": "code",
   "execution_count": 23,
   "id": "e666f045-296e-4b4a-91be-02b41244bf64",
   "metadata": {},
   "outputs": [],
   "source": [
    "s=Square(4)"
   ]
  },
  {
   "cell_type": "code",
   "execution_count": 24,
   "id": "4bc69f2b-f29f-4f45-a1d4-6e80005b33fd",
   "metadata": {},
   "outputs": [
    {
     "data": {
      "text/plain": [
       "16"
      ]
     },
     "execution_count": 24,
     "metadata": {},
     "output_type": "execute_result"
    }
   ],
   "source": [
    "s.area()"
   ]
  },
  {
   "cell_type": "code",
   "execution_count": null,
   "id": "55d4fff6-24ad-46df-a60d-c1a4efdc5d91",
   "metadata": {},
   "outputs": [],
   "source": []
  }
 ],
 "metadata": {
  "kernelspec": {
   "display_name": "Python 3 (ipykernel)",
   "language": "python",
   "name": "python3"
  },
  "language_info": {
   "codemirror_mode": {
    "name": "ipython",
    "version": 3
   },
   "file_extension": ".py",
   "mimetype": "text/x-python",
   "name": "python",
   "nbconvert_exporter": "python",
   "pygments_lexer": "ipython3",
   "version": "3.10.6"
  }
 },
 "nbformat": 4,
 "nbformat_minor": 5
}
