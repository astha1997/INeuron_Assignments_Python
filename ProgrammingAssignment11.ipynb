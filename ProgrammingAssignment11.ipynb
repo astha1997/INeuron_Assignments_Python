{
 "cells": [
  {
   "cell_type": "markdown",
   "id": "922af8e8-7c56-44be-a1da-f15e9e263e7d",
   "metadata": {},
   "source": [
    "1.\tWrite a Python program to find words which are greater than given length k?\n",
    "2.\tWrite a Python program for removing i-th character from a string?\n",
    "3.\tWrite a Python program to split and join a string?\n",
    "4.\tWrite a Python to check if a given string is binary string or not?\n",
    "5.\tWrite a Python program to find uncommon words from two Strings?\n",
    "6.\tWrite a Python to find all duplicate characters in string?\n",
    "7.\tWrite a Python Program to check if a string contains any special character?\n"
   ]
  },
  {
   "cell_type": "code",
   "execution_count": 4,
   "id": "ebd78502-8b5e-424f-b0ed-fbd71da9c67b",
   "metadata": {},
   "outputs": [],
   "source": [
    "##1 Problem\n",
    "\n",
    "def func1(str ,k ):\n",
    "    l=[]\n",
    "    for i in str.split():\n",
    "        if len(i) > k:\n",
    "            l.append(i)\n",
    "    return l"
   ]
  },
  {
   "cell_type": "code",
   "execution_count": 5,
   "id": "9d484632-bda4-43f0-9deb-803f3e60bc05",
   "metadata": {},
   "outputs": [
    {
     "data": {
      "text/plain": [
       "['name', 'Astha']"
      ]
     },
     "execution_count": 5,
     "metadata": {},
     "output_type": "execute_result"
    }
   ],
   "source": [
    "func1('My name is Astha' ,2)"
   ]
  },
  {
   "cell_type": "code",
   "execution_count": 6,
   "id": "9643e745-1cff-42a4-9355-75bae2978fcb",
   "metadata": {},
   "outputs": [],
   "source": [
    "def remove(string, i):\n",
    "  \n",
    "    # Characters before the i-th indexed\n",
    "    # is stored in a variable a\n",
    "    a = string[: i]\n",
    "  \n",
    "    # Characters after the nth indexed\n",
    "    # is stored in a variable b\n",
    "    b = string[i + 1:]\n",
    "  \n",
    "    # Returning string after removing\n",
    "    # nth indexed character.\n",
    "    return a + b"
   ]
  },
  {
   "cell_type": "code",
   "execution_count": 7,
   "id": "a4c9361c-a7e6-4c42-a1a7-d243c169dd99",
   "metadata": {},
   "outputs": [
    {
     "data": {
      "text/plain": [
       "'ASHA'"
      ]
     },
     "execution_count": 7,
     "metadata": {},
     "output_type": "execute_result"
    }
   ],
   "source": [
    "remove('ASTHA',2)"
   ]
  },
  {
   "cell_type": "code",
   "execution_count": 9,
   "id": "4b82ad34-8a26-433f-b849-5fedb8df6b07",
   "metadata": {},
   "outputs": [],
   "source": [
    "#Write a Python program to split and join a string?\n",
    "def split_join_string(string):\n",
    " \n",
    "    # Split the string based on space delimiter\n",
    "    list_string = string.split(' ')\n",
    "     \n",
    "    \n",
    " \n",
    "    string = '-'.join(list_string)\n",
    "     \n",
    "    return string"
   ]
  },
  {
   "cell_type": "code",
   "execution_count": 10,
   "id": "3f2680e6-9906-447b-a3ed-8b3dccc689da",
   "metadata": {},
   "outputs": [
    {
     "data": {
      "text/plain": [
       "'ASTHA-SACHAN'"
      ]
     },
     "execution_count": 10,
     "metadata": {},
     "output_type": "execute_result"
    }
   ],
   "source": [
    "split_join_string('ASTHA SACHAN')"
   ]
  },
  {
   "cell_type": "code",
   "execution_count": 11,
   "id": "73dbca91-d315-4878-9bd7-5fe6079db0c3",
   "metadata": {},
   "outputs": [],
   "source": [
    "#Write a Python to check if a given string is binary string or not?\n",
    "\n",
    "def check(string):\n",
    " \n",
    "    # set function convert string\n",
    "    # into set of characters .\n",
    "    p = set(string)\n",
    " \n",
    "    # declare set of '0', '1' .\n",
    "    s = {'0', '1'}\n",
    " \n",
    "    # check set p is same as set s\n",
    "    # or set p contains only '0'\n",
    "    # or set p contains only '1'\n",
    "    # or not, if any one condition\n",
    "    # is true then string is accepted\n",
    "    # otherwise not .\n",
    "    if s == p or p == {'0'} or p == {'1'}:\n",
    "        print(\"Yes\")\n",
    "    else:\n",
    "        print(\"No\")"
   ]
  },
  {
   "cell_type": "code",
   "execution_count": 12,
   "id": "5f14753f-d80e-4968-9fb5-74f8bf079f2d",
   "metadata": {},
   "outputs": [
    {
     "name": "stdout",
     "output_type": "stream",
     "text": [
      "No\n"
     ]
    }
   ],
   "source": [
    "check('0190')"
   ]
  },
  {
   "cell_type": "code",
   "execution_count": 13,
   "id": "5cf1f5ed-0d59-4cf5-87df-22ef38d7f940",
   "metadata": {},
   "outputs": [
    {
     "name": "stdout",
     "output_type": "stream",
     "text": [
      "Yes\n"
     ]
    }
   ],
   "source": [
    "check('0110101')"
   ]
  },
  {
   "cell_type": "code",
   "execution_count": 15,
   "id": "1d135ef3-f223-4c41-8e99-2595da72dccf",
   "metadata": {},
   "outputs": [],
   "source": [
    "#\tWrite a Python program to find uncommon words from two Strings?\n",
    "def UncommonWords(A, B):\n",
    "    A=A.split()\n",
    "    B=B.split()\n",
    "    x=[]\n",
    "    for i in A:\n",
    "        if i not in B:\n",
    "            x.append(i)\n",
    "    for i in B:\n",
    "        if i not in A:\n",
    "            x.append(i)\n",
    "    x=list(set(x))\n",
    "    return x"
   ]
  },
  {
   "cell_type": "code",
   "execution_count": 16,
   "id": "c17633bd-c0e6-4c98-8d94-34959b554cad",
   "metadata": {},
   "outputs": [
    {
     "name": "stdout",
     "output_type": "stream",
     "text": [
      "['from', 'Learning']\n"
     ]
    }
   ],
   "source": [
    "# Driver Code\n",
    "A = \"Geeks for Geeks\"\n",
    "B = \"Learning from Geeks for Geeks\"\n",
    " \n",
    "# Print required answer\n",
    "print(UncommonWords(A, B))"
   ]
  },
  {
   "cell_type": "code",
   "execution_count": 17,
   "id": "5cdd3cf4-4609-4a31-bac4-c936fb7eec94",
   "metadata": {},
   "outputs": [
    {
     "name": "stdout",
     "output_type": "stream",
     "text": [
      "g\n",
      "e\n",
      "k\n",
      "s\n"
     ]
    }
   ],
   "source": [
    "#6.\tWrite a Python to find all duplicate characters in string?\n",
    "\n",
    "from collections import Counter\n",
    " \n",
    " \n",
    "def find_dup_char(input):\n",
    " \n",
    "    # now create dictionary using counter method\n",
    "    # which will have strings as key and their\n",
    "    # frequencies as value\n",
    "    WC = Counter(input)\n",
    " \n",
    "    # Finding no. of  occurrence of a character\n",
    "    # and get the index of it.\n",
    "    for letter, count in WC.items():\n",
    "        if (count > 1):\n",
    "            print(letter)\n",
    " \n",
    " \n",
    "# Driver program\n",
    "if __name__ == \"__main__\":\n",
    "    input = 'geeksforgeeks'\n",
    "    find_dup_char(input)"
   ]
  },
  {
   "cell_type": "code",
   "execution_count": 18,
   "id": "f9b8cc55-508d-4636-b902-8fb5665ae761",
   "metadata": {},
   "outputs": [
    {
     "name": "stdout",
     "output_type": "stream",
     "text": [
      "String is not accepted.\n"
     ]
    }
   ],
   "source": [
    "#\tWrite a Python Program to check if a string contains any special character?\n",
    "\n",
    "import re\n",
    " \n",
    "# Function checks if the string\n",
    "# contains any special character\n",
    "def run(string):\n",
    " \n",
    "    # Make own character set and pass\n",
    "    # this as argument in compile method\n",
    "    regex = re.compile('[@_!#$%^&*()<>?/\\|}{~:]')\n",
    "     \n",
    "    # Pass the string in search\n",
    "    # method of regex object.   \n",
    "    if(regex.search(string) == None):\n",
    "        print(\"String is accepted\")\n",
    "         \n",
    "    else:\n",
    "        print(\"String is not accepted.\")\n",
    "     \n",
    " \n",
    "# Driver Code\n",
    "if __name__ == '__main__' :\n",
    "     \n",
    "    # Enter the string\n",
    "    string = \"Geeks$For$Geeks\"\n",
    "     \n",
    "    # calling run function\n",
    "    run(string)"
   ]
  },
  {
   "cell_type": "code",
   "execution_count": null,
   "id": "047065b5-00b7-4564-a283-8a41ed8e51c1",
   "metadata": {},
   "outputs": [],
   "source": []
  }
 ],
 "metadata": {
  "kernelspec": {
   "display_name": "Python 3 (ipykernel)",
   "language": "python",
   "name": "python3"
  },
  "language_info": {
   "codemirror_mode": {
    "name": "ipython",
    "version": 3
   },
   "file_extension": ".py",
   "mimetype": "text/x-python",
   "name": "python",
   "nbconvert_exporter": "python",
   "pygments_lexer": "ipython3",
   "version": "3.10.6"
  }
 },
 "nbformat": 4,
 "nbformat_minor": 5
}
