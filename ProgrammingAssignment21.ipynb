{
 "cells": [
  {
   "cell_type": "markdown",
   "id": "1a4736b1-5bb3-4ce8-b32b-0d2c2272ea74",
   "metadata": {},
   "source": [
    "Write a function that takes a list and a number as arguments. Add the number to the end of the list, then remove the first element of the list. The function should then return the updated list."
   ]
  },
  {
   "cell_type": "code",
   "execution_count": 5,
   "id": "5d1b920e-7a6b-4d63-8ecb-fa18066975ce",
   "metadata": {},
   "outputs": [],
   "source": [
    "def next_in_line(l, x) :\n",
    "    if l==[]:\n",
    "        return \"No list has been selected\"\n",
    "    else:\n",
    "        \n",
    "        l.append(x)\n",
    "        l.pop(0)\n",
    "        return l\n",
    "    "
   ]
  },
  {
   "cell_type": "code",
   "execution_count": 6,
   "id": "3c102256-cfc3-490f-b667-f516b7d95a17",
   "metadata": {},
   "outputs": [
    {
     "data": {
      "text/plain": [
       "[6, 7, 8, 9, 1]"
      ]
     },
     "execution_count": 6,
     "metadata": {},
     "output_type": "execute_result"
    }
   ],
   "source": [
    "next_in_line([5, 6, 7, 8, 9], 1) "
   ]
  },
  {
   "cell_type": "code",
   "execution_count": 7,
   "id": "33b08c69-a48a-4f7f-83d7-5487f2b39fdb",
   "metadata": {},
   "outputs": [
    {
     "data": {
      "text/plain": [
       "'No list has been selected'"
      ]
     },
     "execution_count": 7,
     "metadata": {},
     "output_type": "execute_result"
    }
   ],
   "source": [
    "next_in_line([], 6) "
   ]
  },
  {
   "cell_type": "markdown",
   "id": "7aad8f59-7e4c-4745-bf06-b5dfd6dedd58",
   "metadata": {},
   "source": [
    "Create the function that takes a list of dictionaries and returns the sum of people's budgets."
   ]
  },
  {
   "cell_type": "code",
   "execution_count": 8,
   "id": "e975d53b-e0fe-4a67-8eaf-68df3abe1226",
   "metadata": {},
   "outputs": [],
   "source": [
    "def get_budgets(l):\n",
    "    sum=0\n",
    "    for i in l:\n",
    "        sum=sum+i['budget']\n",
    "    return sum\n",
    "        "
   ]
  },
  {
   "cell_type": "code",
   "execution_count": 9,
   "id": "9c49adb3-74dc-4cbe-8857-5ac01a9da06c",
   "metadata": {},
   "outputs": [
    {
     "data": {
      "text/plain": [
       "65700"
      ]
     },
     "execution_count": 9,
     "metadata": {},
     "output_type": "execute_result"
    }
   ],
   "source": [
    "get_budgets([\n",
    "  { \"name\": \"John\", \"age\": 21, \"budget\": 23000 },\n",
    "  { \"name\": \"Steve\",  \"age\": 32, \"budget\": 40000 },\n",
    "  { \"name\": \"Martin\",  \"age\": 16, \"budget\": 2700 }\n",
    "]) \n"
   ]
  },
  {
   "cell_type": "markdown",
   "id": "4d4b6371-94c6-4786-8a4d-68da920bb416",
   "metadata": {},
   "source": [
    "Create a function that takes a string and returns a string with its letters in alphabetical order."
   ]
  },
  {
   "cell_type": "code",
   "execution_count": 10,
   "id": "dcd4772a-0889-413b-b5be-4641ea17325e",
   "metadata": {},
   "outputs": [],
   "source": [
    "def alphabet_soup(a) :\n",
    "    return ''.join(sorted(a))"
   ]
  },
  {
   "cell_type": "code",
   "execution_count": 11,
   "id": "bb30f05a-b92e-46cf-acdd-4dbe75547e49",
   "metadata": {},
   "outputs": [
    {
     "data": {
      "text/plain": [
       "'ehllo'"
      ]
     },
     "execution_count": 11,
     "metadata": {},
     "output_type": "execute_result"
    }
   ],
   "source": [
    "alphabet_soup(\"hello\") "
   ]
  },
  {
   "cell_type": "code",
   "execution_count": 16,
   "id": "d8164a8e-0ba3-4f44-85d5-694be3d32564",
   "metadata": {},
   "outputs": [],
   "source": [
    "def compound_interest(p,t,r,n) :\n",
    "    \n",
    "    Amount = p * (pow((1 + r / n), n*t))\n",
    "    return Amount\n",
    "        \n",
    "    \n",
    "    "
   ]
  },
  {
   "cell_type": "code",
   "execution_count": 17,
   "id": "c8277ef9-8e69-4130-ace1-23d7b262cea1",
   "metadata": {},
   "outputs": [
    {
     "data": {
      "text/plain": [
       "105.0"
      ]
     },
     "execution_count": 17,
     "metadata": {},
     "output_type": "execute_result"
    }
   ],
   "source": [
    "compound_interest(100, 1, 0.05, 1) "
   ]
  },
  {
   "cell_type": "code",
   "execution_count": 18,
   "id": "8e112dbf-a1cb-472e-9ae2-140218f8100c",
   "metadata": {},
   "outputs": [
    {
     "data": {
      "text/plain": [
       "15399.264120852586"
      ]
     },
     "execution_count": 18,
     "metadata": {},
     "output_type": "execute_result"
    }
   ],
   "source": [
    "compound_interest(3500, 15, 0.1, 4) "
   ]
  },
  {
   "cell_type": "markdown",
   "id": "2b9fd51b-ce36-406d-b527-200eb99fbc7f",
   "metadata": {},
   "source": [
    "Write a function that takes a list of elements and returns only the integers."
   ]
  },
  {
   "cell_type": "code",
   "execution_count": 22,
   "id": "a7ebe691-c48d-4f50-848b-b65a4f4c3921",
   "metadata": {},
   "outputs": [],
   "source": [
    "def return_only_integer(l):\n",
    "    l1=[]\n",
    "    for i in l:\n",
    "        if type(i)==int:\n",
    "            l1.append(i)\n",
    "        else:\n",
    "            continue\n",
    "    return l1\n",
    "            "
   ]
  },
  {
   "cell_type": "code",
   "execution_count": 23,
   "id": "9c5b7573-e28d-428e-b145-5cdf708706f2",
   "metadata": {},
   "outputs": [
    {
     "data": {
      "text/plain": [
       "[9, 2, 16]"
      ]
     },
     "execution_count": 23,
     "metadata": {},
     "output_type": "execute_result"
    }
   ],
   "source": [
    "return_only_integer([9, 2, \"space\", \"car\", \"lion\", 16])"
   ]
  },
  {
   "cell_type": "code",
   "execution_count": 24,
   "id": "5cb4dcdd-84db-425b-8248-530bf53b67a2",
   "metadata": {},
   "outputs": [
    {
     "data": {
      "text/plain": [
       "[1]"
      ]
     },
     "execution_count": 24,
     "metadata": {},
     "output_type": "execute_result"
    }
   ],
   "source": [
    "return_only_integer([\"String\",  True,  3.3,  1]) "
   ]
  },
  {
   "cell_type": "code",
   "execution_count": null,
   "id": "8d9b266a-0705-4d05-bdc8-c6da2512a2d8",
   "metadata": {},
   "outputs": [],
   "source": []
  }
 ],
 "metadata": {
  "kernelspec": {
   "display_name": "Python 3 (ipykernel)",
   "language": "python",
   "name": "python3"
  },
  "language_info": {
   "codemirror_mode": {
    "name": "ipython",
    "version": 3
   },
   "file_extension": ".py",
   "mimetype": "text/x-python",
   "name": "python",
   "nbconvert_exporter": "python",
   "pygments_lexer": "ipython3",
   "version": "3.10.6"
  }
 },
 "nbformat": 4,
 "nbformat_minor": 5
}
