{
 "cells": [
  {
   "cell_type": "markdown",
   "id": "1c3ea2bb-f3f4-44ab-a45c-7d66767e8a89",
   "metadata": {},
   "source": [
    "Question1. Write a function that stutters a word as if someone is struggling to read it. The first two letters are repeated twice with an ellipsis ... and space after each, and then the word is pronounced with a question mark ?."
   ]
  },
  {
   "cell_type": "code",
   "execution_count": 5,
   "id": "af64dafe-3fa5-4629-a40e-32f511284bb8",
   "metadata": {},
   "outputs": [],
   "source": [
    "def stutter(str):\n",
    "    return str[0:2]+'...'+ str[0:2]+'...'+ str+'?'\n",
    "    "
   ]
  },
  {
   "cell_type": "code",
   "execution_count": 6,
   "id": "74e9d3f3-b03d-43b4-aea0-231f1f4a227c",
   "metadata": {},
   "outputs": [
    {
     "data": {
      "text/plain": [
       "'in...in...incredible?'"
      ]
     },
     "execution_count": 6,
     "metadata": {},
     "output_type": "execute_result"
    }
   ],
   "source": [
    "stutter(\"incredible\") "
   ]
  },
  {
   "cell_type": "markdown",
   "id": "131e5101-5e0c-43ac-b16f-a8c697cf8e87",
   "metadata": {},
   "source": [
    "Question 2.Create a function that takes an angle in radians and returns the corresponding angle in degrees rounded to one decimal place."
   ]
  },
  {
   "cell_type": "code",
   "execution_count": 14,
   "id": "de0cba46-bc83-47ae-b6da-466016040ed2",
   "metadata": {},
   "outputs": [],
   "source": [
    "def radians_to_degrees(r) :\n",
    "    return round((r*180/3.14),1)\n",
    "    "
   ]
  },
  {
   "cell_type": "code",
   "execution_count": 15,
   "id": "cf12f9f5-631f-46d2-af6c-85fa38e613c8",
   "metadata": {},
   "outputs": [
    {
     "data": {
      "text/plain": [
       "57.3"
      ]
     },
     "execution_count": 15,
     "metadata": {},
     "output_type": "execute_result"
    }
   ],
   "source": [
    "radians_to_degrees(1) "
   ]
  },
  {
   "cell_type": "code",
   "execution_count": 16,
   "id": "030636d7-5c7e-40f3-aeb6-239851c55bac",
   "metadata": {},
   "outputs": [
    {
     "data": {
      "text/plain": [
       "1146.5"
      ]
     },
     "execution_count": 16,
     "metadata": {},
     "output_type": "execute_result"
    }
   ],
   "source": [
    "radians_to_degrees(20)"
   ]
  },
  {
   "cell_type": "markdown",
   "id": "fa39b229-2a4c-4496-a953-436ca48dd04e",
   "metadata": {},
   "source": [
    "Question 3. In this challenge, establish if a given integer num is a Curzon number. If 1 plus 2 elevated to num is exactly divisible by 1 plus 2 multiplied by num, then num is a Curzon number.\n",
    "Given a non-negative integer num, implement a function that returns True if num is a Curzon number, or False otherwise.\n"
   ]
  },
  {
   "cell_type": "code",
   "execution_count": 24,
   "id": "bc86a7b8-d0f0-4c6f-86a6-b55e55032b2b",
   "metadata": {},
   "outputs": [],
   "source": [
    "def is_curzon(n) :\n",
    "    a=n*2+1\n",
    "    i=pow(2,n)+1\n",
    "    if i%a==0:\n",
    "        return True\n",
    "    else:\n",
    "        return False\n",
    "    "
   ]
  },
  {
   "cell_type": "code",
   "execution_count": 23,
   "id": "8d6adc38-e55c-4cd6-9bad-575843c86bfe",
   "metadata": {},
   "outputs": [
    {
     "data": {
      "text/plain": [
       "True"
      ]
     },
     "execution_count": 23,
     "metadata": {},
     "output_type": "execute_result"
    }
   ],
   "source": [
    "is_curzon(5) "
   ]
  },
  {
   "cell_type": "code",
   "execution_count": 25,
   "id": "791c2609-6bfe-46f1-9d58-dcbb51984836",
   "metadata": {},
   "outputs": [
    {
     "data": {
      "text/plain": [
       "False"
      ]
     },
     "execution_count": 25,
     "metadata": {},
     "output_type": "execute_result"
    }
   ],
   "source": [
    "is_curzon(10) "
   ]
  },
  {
   "cell_type": "code",
   "execution_count": 33,
   "id": "ce323de8-b30b-4db7-b8b6-29a224830921",
   "metadata": {},
   "outputs": [],
   "source": [
    "def area_of_hexagon(s) :\n",
    "    return round((3*pow(3,0.5)*s*s/2),1)"
   ]
  },
  {
   "cell_type": "code",
   "execution_count": 34,
   "id": "6aedde97-434a-4422-b011-17ed601858b9",
   "metadata": {},
   "outputs": [
    {
     "data": {
      "text/plain": [
       "2.6"
      ]
     },
     "execution_count": 34,
     "metadata": {},
     "output_type": "execute_result"
    }
   ],
   "source": [
    "area_of_hexagon(1) "
   ]
  },
  {
   "cell_type": "code",
   "execution_count": 35,
   "id": "38fddb3e-4762-4bc3-acca-0036390056b3",
   "metadata": {},
   "outputs": [
    {
     "data": {
      "text/plain": [
       "10.4"
      ]
     },
     "execution_count": 35,
     "metadata": {},
     "output_type": "execute_result"
    }
   ],
   "source": [
    "area_of_hexagon(2)"
   ]
  },
  {
   "cell_type": "markdown",
   "id": "8d1e0242-66d5-476e-b495-7f332e12df66",
   "metadata": {},
   "source": [
    "Create a function that returns a base-2 (binary) representation of a base-10 (decimal) string number. To convert is simple: ((2) means base-2 and (10) means base-10) 010101001(2) = 1 + 8 + 32 + 128.\n",
    "Going from right to left, the value of the most right bit is 1, now from that every bit to the left will be x2 the value, value of an 8 bit binary numbers are (256, 128, 64, 32, 16, 8, 4, 2, 1).\n"
   ]
  },
  {
   "cell_type": "code",
   "execution_count": 39,
   "id": "2d63675c-650f-4796-abbc-b0b4eca836d1",
   "metadata": {},
   "outputs": [],
   "source": [
    "def binary(num) :\n",
    "    if num >= 1:\n",
    "        binary(num // 2)\n",
    "        print (num % 2 ,end=\"\")\n",
    "    "
   ]
  },
  {
   "cell_type": "code",
   "execution_count": 40,
   "id": "e7688bb1-67fb-47e6-a908-67b6c756d711",
   "metadata": {},
   "outputs": [
    {
     "name": "stdout",
     "output_type": "stream",
     "text": [
      "101"
     ]
    }
   ],
   "source": [
    "binary(5) "
   ]
  },
  {
   "cell_type": "code",
   "execution_count": 41,
   "id": "67f74f25-55e5-4e0c-bc12-584f5fca5b7a",
   "metadata": {},
   "outputs": [
    {
     "name": "stdout",
     "output_type": "stream",
     "text": [
      "1010"
     ]
    }
   ],
   "source": [
    "binary(10) "
   ]
  },
  {
   "cell_type": "code",
   "execution_count": null,
   "id": "205e67f1-c614-4dc3-967b-246c5871a1f7",
   "metadata": {},
   "outputs": [],
   "source": []
  }
 ],
 "metadata": {
  "kernelspec": {
   "display_name": "Python 3 (ipykernel)",
   "language": "python",
   "name": "python3"
  },
  "language_info": {
   "codemirror_mode": {
    "name": "ipython",
    "version": 3
   },
   "file_extension": ".py",
   "mimetype": "text/x-python",
   "name": "python",
   "nbconvert_exporter": "python",
   "pygments_lexer": "ipython3",
   "version": "3.10.6"
  }
 },
 "nbformat": 4,
 "nbformat_minor": 5
}
