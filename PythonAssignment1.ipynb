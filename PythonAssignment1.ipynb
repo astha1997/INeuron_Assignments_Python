{
 "cells": [
  {
   "cell_type": "markdown",
   "id": "89e4deab-f9c5-4bc2-b7fc-11c8498155c6",
   "metadata": {},
   "source": [
    "1.\tWrite a Python program to print \"Hello Python\"?\n",
    "2.\tWrite a Python program to do arithmetical operations addition and division.?\n",
    "3.\tWrite a Python program to find the area of a triangle?\n",
    "4.\tWrite a Python program to swap two variables?\n",
    "5.\tWrite a Python program to generate a random number?\n"
   ]
  },
  {
   "cell_type": "markdown",
   "id": "f74afe84-03d9-44fe-8d3b-d0ee74725e6f",
   "metadata": {},
   "source": [
    "1.\tWrite a Python program to print \"Hello Python\"?"
   ]
  },
  {
   "cell_type": "code",
   "execution_count": 1,
   "id": "061f07ed-100a-4000-afce-1ff64b397d5d",
   "metadata": {},
   "outputs": [
    {
     "name": "stdout",
     "output_type": "stream",
     "text": [
      "Hello Python\n"
     ]
    }
   ],
   "source": [
    "print(\"Hello Python\")"
   ]
  },
  {
   "cell_type": "markdown",
   "id": "ef4c8b83-c50b-45f6-8b8d-598c9f652c5d",
   "metadata": {},
   "source": [
    "2.\tWrite a Python program to do arithmetical operations addition and division.?"
   ]
  },
  {
   "cell_type": "code",
   "execution_count": 13,
   "id": "a48f4ba3-b44a-47f0-b8a6-ce57d4e43123",
   "metadata": {},
   "outputs": [
    {
     "name": "stdout",
     "output_type": "stream",
     "text": [
      "Addition of a and b : 30\n",
      "Division of a and b : 5.0\n"
     ]
    }
   ],
   "source": [
    "a=25  \n",
    "b=5\n",
    "print(\"Addition of a and b :\", a+b)\n",
    "print(\"Division of a and b :\", a/b)"
   ]
  },
  {
   "cell_type": "markdown",
   "id": "52be699c-1b35-4aec-90b5-f34fc4c14da4",
   "metadata": {},
   "source": [
    "3.\tWrite a Python program to find the area of a triangle?"
   ]
  },
  {
   "cell_type": "code",
   "execution_count": 15,
   "id": "57a68be0-953a-453d-a6d6-41baf32b4ec3",
   "metadata": {},
   "outputs": [
    {
     "name": "stdout",
     "output_type": "stream",
     "text": [
      "enter base of the triangle :\n"
     ]
    },
    {
     "name": "stdin",
     "output_type": "stream",
     "text": [
      " 5\n"
     ]
    },
    {
     "name": "stdout",
     "output_type": "stream",
     "text": [
      "enter height of the triangle:\n"
     ]
    },
    {
     "name": "stdin",
     "output_type": "stream",
     "text": [
      " 2\n"
     ]
    },
    {
     "name": "stdout",
     "output_type": "stream",
     "text": [
      "Area of the triangle is : 5.0\n"
     ]
    }
   ],
   "source": [
    "print(\"enter base of the triangle :\")\n",
    "b=float(input())\n",
    "print(\"enter height of the triangle:\")\n",
    "h=float(input())\n",
    "print(\"Area of the triangle is :\", (b*h)/2)\n",
    "\n"
   ]
  },
  {
   "cell_type": "markdown",
   "id": "44bcc7ee-c0ae-46c5-b757-2f67594715fb",
   "metadata": {},
   "source": [
    "4.\tWrite a Python program to swap two variables?"
   ]
  },
  {
   "cell_type": "code",
   "execution_count": 17,
   "id": "56ce6e0c-9f89-4a58-aad7-31a2262fcdcf",
   "metadata": {},
   "outputs": [
    {
     "name": "stdout",
     "output_type": "stream",
     "text": [
      "enter a:\n"
     ]
    },
    {
     "name": "stdin",
     "output_type": "stream",
     "text": [
      " 5\n"
     ]
    },
    {
     "name": "stdout",
     "output_type": "stream",
     "text": [
      "enter b:\n"
     ]
    },
    {
     "name": "stdin",
     "output_type": "stream",
     "text": [
      " 2\n"
     ]
    },
    {
     "name": "stdout",
     "output_type": "stream",
     "text": [
      "new value of a after swap: 2\n",
      "new value of b after swap: 5\n"
     ]
    }
   ],
   "source": [
    "print(\"enter a:\")\n",
    "a=int(input())\n",
    "print(\"enter b:\")\n",
    "b=int(input())\n",
    "a=a+b\n",
    "b=a-b\n",
    "a=a-b\n",
    "print(\"new value of a after swap:\",a)\n",
    "print(\"new value of b after swap:\",b)\n",
    "\n"
   ]
  },
  {
   "cell_type": "markdown",
   "id": "82ef648f-d4cc-4a9b-9a3c-544966e46f69",
   "metadata": {},
   "source": [
    "5.\tWrite a Python program to generate a random number?"
   ]
  },
  {
   "cell_type": "code",
   "execution_count": 18,
   "id": "d0d156c7-2032-4d37-b29b-8b30b4c78f4e",
   "metadata": {},
   "outputs": [
    {
     "name": "stdout",
     "output_type": "stream",
     "text": [
      "0.533669317653293\n"
     ]
    }
   ],
   "source": [
    "import random\n",
    "n=random.random()\n",
    "print(n)"
   ]
  },
  {
   "cell_type": "code",
   "execution_count": null,
   "id": "a965f215-dfa3-41e4-b89b-1cf0d5191ec5",
   "metadata": {},
   "outputs": [],
   "source": []
  }
 ],
 "metadata": {
  "kernelspec": {
   "display_name": "Python 3 (ipykernel)",
   "language": "python",
   "name": "python3"
  },
  "language_info": {
   "codemirror_mode": {
    "name": "ipython",
    "version": 3
   },
   "file_extension": ".py",
   "mimetype": "text/x-python",
   "name": "python",
   "nbconvert_exporter": "python",
   "pygments_lexer": "ipython3",
   "version": "3.10.6"
  }
 },
 "nbformat": 4,
 "nbformat_minor": 5
}
