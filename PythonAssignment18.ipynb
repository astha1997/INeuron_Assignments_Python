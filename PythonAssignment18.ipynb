{
 "cells": [
  {
   "cell_type": "markdown",
   "id": "2a8b2720-e25d-4be4-9ebb-00b8e7f1c8fd",
   "metadata": {},
   "source": [
    "Create a function that takes a list of non-negative integers and strings and return a new list without the strings."
   ]
  },
  {
   "cell_type": "code",
   "execution_count": 7,
   "id": "3604130a-01ba-45bb-865a-f71b81be40b6",
   "metadata": {},
   "outputs": [],
   "source": [
    "def filter_list(l) :\n",
    "    l2=[]\n",
    "    for i in l:\n",
    "        if type(i)==int:\n",
    "            l2.append(i)\n",
    "    return l2\n",
    "    "
   ]
  },
  {
   "cell_type": "code",
   "execution_count": 8,
   "id": "6d65ff68-faf3-4cd6-a338-eb1bdbf851ce",
   "metadata": {},
   "outputs": [
    {
     "data": {
      "text/plain": [
       "[1, 2]"
      ]
     },
     "execution_count": 8,
     "metadata": {},
     "output_type": "execute_result"
    }
   ],
   "source": [
    "filter_list([1, 2, \"a\", \"b\"])"
   ]
  },
  {
   "cell_type": "markdown",
   "id": "37f0b228-92fc-448f-9773-bbd295685d92",
   "metadata": {},
   "source": [
    "The \"Reverser\" takes a string as input and returns that string in reverse order, with the opposite case."
   ]
  },
  {
   "cell_type": "code",
   "execution_count": 9,
   "id": "bf556ed8-1fff-4312-b5d6-120c05cbd3be",
   "metadata": {},
   "outputs": [],
   "source": [
    "def reverse(s):\n",
    "    return(s.swapcase()[::-1])\n",
    "    "
   ]
  },
  {
   "cell_type": "code",
   "execution_count": 10,
   "id": "b575dc22-9cf6-4a48-9996-7b7a1b31b86c",
   "metadata": {},
   "outputs": [
    {
     "data": {
      "text/plain": [
       "'DLROw OLLEh'"
      ]
     },
     "execution_count": 10,
     "metadata": {},
     "output_type": "execute_result"
    }
   ],
   "source": [
    "reverse(\"Hello World\")"
   ]
  },
  {
   "cell_type": "code",
   "execution_count": 11,
   "id": "ecfe9b1b-9dd1-498c-97a3-e3ea189ecf76",
   "metadata": {},
   "outputs": [
    {
     "data": {
      "text/plain": [
       "'eSrEvEr'"
      ]
     },
     "execution_count": 11,
     "metadata": {},
     "output_type": "execute_result"
    }
   ],
   "source": [
    "reverse(\"ReVeRsE\") "
   ]
  },
  {
   "cell_type": "markdown",
   "id": "c857c947-1a70-4595-ba7d-e3bc2fe52265",
   "metadata": {},
   "source": [
    "You can assign variables from lists like this:\n",
    "lst = [1, 2, 3, 4, 5, 6]\n",
    "first = lst[0]\n",
    "middle = lst[1:-1]\n",
    "last = lst[-1]\n",
    "\n",
    "print(first) ➞ outputs 1\n",
    "print(middle) ➞ outputs [2, 3, 4, 5]\n",
    "print(last) ➞ outputs 6\n",
    "With Python 3, you can assign variables from lists in a much more succinct way. Create variables first, middle and last from the given list using destructuring assignment (check the Resources tab for some examples), where:\n",
    "first  ➞ 1\n",
    "\n",
    "middle ➞ [2, 3, 4, 5]\n",
    "\n",
    "last ➞ 6\n",
    "Your task is to unpack the list writeyourcodehere into three variables, being first, middle, and last, with middle being everything in between the first and last element. Then print all three variables.\n"
   ]
  },
  {
   "cell_type": "code",
   "execution_count": 18,
   "id": "d2152d99-07f5-48ee-adb0-c003e534ca7f",
   "metadata": {},
   "outputs": [],
   "source": [
    "def unpack(lst):\n",
    "    first=lst[0]\n",
    "    middle=lst[1:-1]\n",
    "    last=lst[-1]\n",
    "    print(first)\n",
    "    print(middle)\n",
    "    print(last)"
   ]
  },
  {
   "cell_type": "code",
   "execution_count": 19,
   "id": "98c7482a-3ddb-4d69-954c-82d68b9abdd6",
   "metadata": {},
   "outputs": [
    {
     "name": "stdout",
     "output_type": "stream",
     "text": [
      "1\n",
      "[2, 3, 4, 5]\n",
      "6\n"
     ]
    }
   ],
   "source": [
    "unpack([1, 2, 3, 4, 5, 6])"
   ]
  },
  {
   "cell_type": "markdown",
   "id": "a5d675e0-2c24-40a4-866c-c992eef20b6c",
   "metadata": {},
   "source": [
    "Write a function that calculates the factorial of a number recursively."
   ]
  },
  {
   "cell_type": "code",
   "execution_count": 12,
   "id": "8b0ed83f-019f-401a-844c-713e06b05d73",
   "metadata": {},
   "outputs": [],
   "source": [
    "def factorial(n):\n",
    "    if n==1 or n==0:\n",
    "        return 1\n",
    "    else:\n",
    "        return n* factorial(n-1)"
   ]
  },
  {
   "cell_type": "code",
   "execution_count": 13,
   "id": "53cabbea-7189-4d85-8b1f-9cc19f873464",
   "metadata": {},
   "outputs": [
    {
     "data": {
      "text/plain": [
       "120"
      ]
     },
     "execution_count": 13,
     "metadata": {},
     "output_type": "execute_result"
    }
   ],
   "source": [
    "factorial(5) "
   ]
  },
  {
   "cell_type": "markdown",
   "id": "16b48fac-535b-4c37-b74b-e3dff6993c55",
   "metadata": {},
   "source": [
    "Write a function that moves all elements of one type to the end of the list."
   ]
  },
  {
   "cell_type": "code",
   "execution_count": 14,
   "id": "b2d3fa6d-74fd-4b04-804d-d9c6e54bdde8",
   "metadata": {},
   "outputs": [],
   "source": [
    "def move_to_end(l, a) :\n",
    "    l2=[]\n",
    "    count=0\n",
    "    for i in l:\n",
    "        if i==a:\n",
    "            count=count+1\n",
    "            continue\n",
    "        else:\n",
    "            l2.append(i)\n",
    "    for i in range (0,count):\n",
    "        l2.append(a)\n",
    "    return l2\n",
    "        "
   ]
  },
  {
   "cell_type": "code",
   "execution_count": 15,
   "id": "f19e0c05-1f42-444b-a79c-7e3fa7394c94",
   "metadata": {},
   "outputs": [
    {
     "data": {
      "text/plain": [
       "[3, 2, 4, 4, 1, 1]"
      ]
     },
     "execution_count": 15,
     "metadata": {},
     "output_type": "execute_result"
    }
   ],
   "source": [
    "move_to_end([1, 3, 2, 4, 4, 1], 1) "
   ]
  },
  {
   "cell_type": "code",
   "execution_count": 16,
   "id": "c21d00ad-daee-4a81-91ba-9da217411911",
   "metadata": {},
   "outputs": [
    {
     "data": {
      "text/plain": [
       "[7, 8, 1, 2, 3, 4, 9]"
      ]
     },
     "execution_count": 16,
     "metadata": {},
     "output_type": "execute_result"
    }
   ],
   "source": [
    "move_to_end([7, 8, 9, 1, 2, 3, 4], 9) "
   ]
  },
  {
   "cell_type": "code",
   "execution_count": 17,
   "id": "7b47e930-33b9-458b-a7c5-f2b5fd632d73",
   "metadata": {},
   "outputs": [
    {
     "data": {
      "text/plain": [
       "['b', 'a', 'a', 'a']"
      ]
     },
     "execution_count": 17,
     "metadata": {},
     "output_type": "execute_result"
    }
   ],
   "source": [
    "move_to_end([\"a\", \"a\", \"a\", \"b\"], \"a\") "
   ]
  },
  {
   "cell_type": "code",
   "execution_count": null,
   "id": "d92801ff-2fea-412e-832d-89e5ef43c7e3",
   "metadata": {},
   "outputs": [],
   "source": []
  }
 ],
 "metadata": {
  "kernelspec": {
   "display_name": "Python 3 (ipykernel)",
   "language": "python",
   "name": "python3"
  },
  "language_info": {
   "codemirror_mode": {
    "name": "ipython",
    "version": 3
   },
   "file_extension": ".py",
   "mimetype": "text/x-python",
   "name": "python",
   "nbconvert_exporter": "python",
   "pygments_lexer": "ipython3",
   "version": "3.10.6"
  }
 },
 "nbformat": 4,
 "nbformat_minor": 5
}
