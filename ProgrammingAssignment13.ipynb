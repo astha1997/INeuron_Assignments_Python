{
 "cells": [
  {
   "cell_type": "markdown",
   "id": "2fb4329a-425c-4693-b482-ab5f73061895",
   "metadata": {},
   "source": [
    "Question 1:\n",
    "\n",
    "Write a program that calculates and prints the value according to the given formula:\n",
    "\n",
    "Q = Square root of [c]\n",
    "\n",
    "Following are the fixed values of C and H:\n",
    "\n",
    "C is 50. H is 30.\n",
    "\n",
    "D is the variable whose values should be input to your program in a comma-separated sequence.\n",
    "\n",
    "Example\n",
    "\n",
    "Let us assume the following comma separated input sequence is given to the program:\n",
    "\n",
    "100,150,180\n",
    "\n",
    "The output of the program should be:\n",
    "\n",
    "18,22,24\n"
   ]
  },
  {
   "cell_type": "code",
   "execution_count": 19,
   "id": "95c2974b-7bcb-4386-a76c-bdd151a3debc",
   "metadata": {},
   "outputs": [],
   "source": [
    "import math\n",
    "def root():\n",
    "    D=input()\n",
    "    l=[]\n",
    "    C=50\n",
    "    H=30\n",
    "    for i in D.split(','):\n",
    "        d=int(i)\n",
    "        res=int(math.sqrt((2 * C * d)/H))\n",
    "        l.append(res)\n",
    "    return tuple(l)\n",
    "        \n",
    "        \n",
    "    "
   ]
  },
  {
   "cell_type": "code",
   "execution_count": 20,
   "id": "b64668fd-e488-46c2-b3b1-835cad728d4f",
   "metadata": {},
   "outputs": [
    {
     "name": "stdin",
     "output_type": "stream",
     "text": [
      " 100,150,180\n"
     ]
    },
    {
     "data": {
      "text/plain": [
       "(18, 22, 24)"
      ]
     },
     "execution_count": 20,
     "metadata": {},
     "output_type": "execute_result"
    }
   ],
   "source": [
    "root()"
   ]
  },
  {
   "cell_type": "markdown",
   "id": "4f79e30a-48ef-4e74-9ea4-b3bde2a39c61",
   "metadata": {},
   "source": [
    "Question 2:\n",
    "Write a program which takes 2 digits, X,Y as input and generates a 2-dimensional array. The element value in the i-th row and j-th column of the array should be i*j.\n",
    "\n",
    "Note: i=0,1.., X-1; j=0,1,¡¬Y-1.\n",
    "\n",
    "Example\n",
    "\n",
    "Suppose the following inputs are given to the program:\n",
    "\n",
    "3,5\n",
    "\n",
    "Then, the output of the program should be:\n",
    "\n",
    "[[0, 0, 0, 0, 0], [0, 1, 2, 3, 4], [0, 2, 4, 6, 8]] \n"
   ]
  },
  {
   "cell_type": "code",
   "execution_count": 21,
   "id": "53034e72-5c14-42e1-a679-2b0804be18e8",
   "metadata": {},
   "outputs": [],
   "source": [
    "def array(X,Y):\n",
    "    rows, cols = (X, Y)\n",
    "    arr = [[i*j for i in range(cols)] for j in range(rows)]\n",
    "    return (arr)"
   ]
  },
  {
   "cell_type": "code",
   "execution_count": 22,
   "id": "003ac35d-3841-4188-b9cb-5613511e099b",
   "metadata": {},
   "outputs": [
    {
     "data": {
      "text/plain": [
       "[[0, 0, 0, 0, 0], [0, 1, 2, 3, 4], [0, 2, 4, 6, 8]]"
      ]
     },
     "execution_count": 22,
     "metadata": {},
     "output_type": "execute_result"
    }
   ],
   "source": [
    "array(3,5)"
   ]
  },
  {
   "cell_type": "markdown",
   "id": "5ec2807d-66b5-40fb-86bc-711b8ea29cad",
   "metadata": {},
   "source": [
    "Write a program that accepts a comma separated sequence of words as input and prints the words in a comma-separated sequence after sorting them alphabetically.\n",
    "\n",
    "Suppose the following input is supplied to the program:\n",
    "\n",
    "without,hello,bag,world\n",
    "\n",
    "Then, the output should be:\n",
    "\n",
    "bag,hello,without,world\n",
    "\n"
   ]
  },
  {
   "cell_type": "code",
   "execution_count": 24,
   "id": "3413d074-4d2d-4655-adbd-e82987c05a03",
   "metadata": {},
   "outputs": [
    {
     "name": "stdin",
     "output_type": "stream",
     "text": [
      "Input words:  without,hello,bag,world,bat\n"
     ]
    },
    {
     "name": "stdout",
     "output_type": "stream",
     "text": [
      "bag, bat, hello, without, world\n"
     ]
    }
   ],
   "source": [
    "phrase = input(\"Input words: \")\n",
    "\n",
    "phrase_list = phrase.split(\",\")\n",
    "phrase_list.sort()\n",
    "print((', ').join(phrase_list))"
   ]
  },
  {
   "cell_type": "markdown",
   "id": "87766c65-9e61-42bb-9e9d-4976978beb10",
   "metadata": {},
   "source": [
    "Question 4:\n",
    "Write a program that accepts a sequence of whitespace separated words as input and prints the words after removing all duplicate words and sorting them alphanumerically.\n",
    "\n",
    "Suppose the following input is supplied to the program:\n",
    "\n",
    "hello world and practice makes perfect and hello world again\n",
    "\n",
    "Then, the output should be:\n",
    "\n",
    "again and hello makes perfect practice world\n"
   ]
  },
  {
   "cell_type": "code",
   "execution_count": 28,
   "id": "f4fd452f-ea7c-46de-a034-216501e2dd03",
   "metadata": {},
   "outputs": [
    {
     "name": "stdin",
     "output_type": "stream",
     "text": [
      "Type in:  hello world and practice makes perfect and hello world again\n"
     ]
    },
    {
     "name": "stdout",
     "output_type": "stream",
     "text": [
      "again,and,hello,makes,perfect,practice,world\n"
     ]
    }
   ],
   "source": [
    "phrase = input(\"Type in: \")\n",
    "phrase_splited = phrase.split(' ')\n",
    "\n",
    "word_list = []\n",
    "for i in phrase_splited:\n",
    "    if i not in word_list:\n",
    "        word_list.append(i)\n",
    "    else:\n",
    "        continue\n",
    "word_list.sort()\n",
    "print((',').join(word_list))"
   ]
  },
  {
   "cell_type": "markdown",
   "id": "9cbddc7a-f4b2-43f8-9d9b-5d87defaa4ba",
   "metadata": {},
   "source": [
    "Question 5:\n",
    "Write a program that accepts a sentence and calculate the number of letters and digits.\n",
    "\n",
    "Suppose the following input is supplied to the program:\n",
    "\n",
    "hello world! 123\n",
    "\n",
    "Then, the output should be:\n",
    "\n",
    "LETTERS 10\n",
    "\n",
    "DIGITS 3\n"
   ]
  },
  {
   "cell_type": "code",
   "execution_count": 46,
   "id": "0476e0b3-1d5c-4847-9cac-622a6109926b",
   "metadata": {},
   "outputs": [],
   "source": [
    "def countAlpha(str):\n",
    "    Letters=0\n",
    "    Digits=0\n",
    "    for i in str:\n",
    "        \n",
    "        if i.isalpha():\n",
    "            Letters=Letters+1\n",
    "        elif i.isdigit():\n",
    "            Digits=Digits+1\n",
    "    print('LETTERS=',Letters)\n",
    "    print('DIGITS=',Digits)\n",
    "            \n",
    "        \n",
    "    "
   ]
  },
  {
   "cell_type": "code",
   "execution_count": 47,
   "id": "9834b688-418e-4b6d-bb8d-aa91bcabe41d",
   "metadata": {},
   "outputs": [
    {
     "name": "stdout",
     "output_type": "stream",
     "text": [
      "LETTERS= 10\n",
      "DIGITS= 3\n"
     ]
    }
   ],
   "source": [
    "countAlpha('hello world! 123')\n",
    "\n"
   ]
  },
  {
   "cell_type": "markdown",
   "id": "dadec9e9-0101-4e97-ae22-bcac5ec040bb",
   "metadata": {},
   "source": [
    "A website requires the users to input username and password to register. Write a program to check the validity of password input by users.\n",
    "\n",
    "Following are the criteria for checking the password:\n",
    "\n",
    "1. At least 1 letter between [a-z]\n",
    "\n",
    "2. At least 1 number between [0-9]\n",
    "\n",
    "1. At least 1 letter between [A-Z]\n",
    "\n",
    "3. At least 1 character from [$#@]\n",
    "\n",
    "4. Minimum length of transaction password: 6\n",
    "\n",
    "5. Maximum length of transaction password: 12\n",
    "\n",
    "Your program should accept a sequence of comma separated passwords and will check them according to the above criteria. Passwords that match the criteria are to be printed, each separated by a comma.\n",
    "\n",
    "Example\n",
    "\n",
    "If the following passwords are given as input to the program:\n",
    "\n",
    "ABd1234@1,a F1#,2w3E*,2We3345\n",
    "\n",
    "Then, the output of the program should be:\n",
    "\n",
    "ABd1234@1\n"
   ]
  },
  {
   "cell_type": "code",
   "execution_count": 52,
   "id": "27b9a6b5-9dcc-450d-9e4e-9ca3c82432e4",
   "metadata": {},
   "outputs": [
    {
     "name": "stdin",
     "output_type": "stream",
     "text": [
      "enter sequence of comma separated passwords : ABd1234@1,a F1#,2w3E*,2We3345\n"
     ]
    },
    {
     "name": "stdout",
     "output_type": "stream",
     "text": [
      "ABd1234@1\n"
     ]
    }
   ],
   "source": [
    "s=input(\"enter sequence of comma separated passwords :\")\n",
    "import re\n",
    "l=s.split(\",\")\n",
    "for i in l:\n",
    "    if(len(i)>=6 and len(i)<=12):\n",
    "        if re.search(\"([a-z])+\", i):\n",
    "            if re.search(\"([A-Z])+\", i):\n",
    "                if re.search(\"([0-9])+\", i):\n",
    "                    if re.search(\"([#,@,$])+\", i):\n",
    "                        print(i)\n"
   ]
  },
  {
   "cell_type": "code",
   "execution_count": null,
   "id": "3f1d713f-fe60-4bba-b843-ef42c965e8ec",
   "metadata": {},
   "outputs": [],
   "source": []
  }
 ],
 "metadata": {
  "kernelspec": {
   "display_name": "Python 3 (ipykernel)",
   "language": "python",
   "name": "python3"
  },
  "language_info": {
   "codemirror_mode": {
    "name": "ipython",
    "version": 3
   },
   "file_extension": ".py",
   "mimetype": "text/x-python",
   "name": "python",
   "nbconvert_exporter": "python",
   "pygments_lexer": "ipython3",
   "version": "3.10.6"
  }
 },
 "nbformat": 4,
 "nbformat_minor": 5
}
