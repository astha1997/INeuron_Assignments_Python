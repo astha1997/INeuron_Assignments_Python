{
 "cells": [
  {
   "cell_type": "markdown",
   "id": "32388a9f-7f2a-4267-b041-6f8a0810e167",
   "metadata": {},
   "source": [
    "1. In the below elements which of them are values or an expression? eg:- values can be integer or string and expressions will be mathematical operators.\n",
    "* \n",
    "'hello'\n",
    "-87.8\n",
    "- \n",
    "/ \n",
    "+\t\n",
    "6\n",
    "\n",
    "Ans :\n",
    "*:expression \n",
    "'hello':value\n",
    "-87.8:value\n",
    "- :expression\n",
    "/ :expression\n",
    "+ :expression\n",
    "6 :value\n",
    "\n",
    "2. What is the difference between string and variable?\n",
    "\n",
    "Ans: A Variable is a store of information, and a String is a type of information you would store in a Variable.\n",
    "\n",
    "3. Describe three different data types.\n",
    "\n",
    "Ans:    Numeric data types: int, float, complex.\n",
    "        String data types: str.\n",
    "        Sequence types: list, tuple, range.\n",
    "        Binary types: bytes, bytearray, memoryview\n",
    "\n",
    "4. What is an expression made up of? What do all expressions do?\n",
    "\n",
    "Ans : A combination of operands and operators is called an expression. The expression in Python produces some value or result after being interpreted by the Python interpreter. An expression in Python is a combination of operators and operands. An example of expression can be : x = x + 1 0 x = x + 10 x=x+10\n",
    "\n",
    "5. This assignment statements, like spam = 10. ?\n",
    "\n",
    "Ans: A statement in Python is used for creating variables or for displaying values. The expression in Python produces some value or result after being interpreted by the Python interpreter.\n",
    "\n",
    "\n",
    "\n",
    "\n",
    "6. After running the following code, what does the variable bacon contain?\n",
    "bacon = 22\n",
    "bacon + 1\n",
    "\n",
    "Ans: bacon=22\n",
    "\n",
    "7. What should the values of the following two terms be?\n",
    "'spam' + 'spamspam' \n",
    "'spam' * 3\n",
    "\n",
    "Ans :\n",
    "'spamspamspam'\n",
    "'spamspamspam'\n",
    "\n",
    "8. Why is eggs a valid variable name while 100 is invalid?\n",
    "\n",
    "Ans: Because variable cant start with number .\n",
    "\n",
    "9. What three functions can be used to get the integer, floating-point number, or string version of a value?\n",
    "\n",
    "Ans:int()\n",
    "    float()\n",
    "    str()\n",
    "\n",
    "10. Why does this expression cause an error? How can you fix it?\n",
    "'I have eaten ' + 99 + ' burritos.'\n",
    "\n",
    "Ans: String cannot be concatenated with integer value.\n",
    "      Correct:  'I have eaten ' + str(99) + ' burritos.'\n"
   ]
  },
  {
   "cell_type": "code",
   "execution_count": 1,
   "id": "b5be9bb5-d9cf-433a-ab60-3a5acf09c387",
   "metadata": {},
   "outputs": [
    {
     "data": {
      "text/plain": [
       "23"
      ]
     },
     "execution_count": 1,
     "metadata": {},
     "output_type": "execute_result"
    }
   ],
   "source": [
    "bacon = 22\n",
    "bacon + 1"
   ]
  },
  {
   "cell_type": "code",
   "execution_count": 2,
   "id": "f8961a78-2ac6-47ef-9ce6-85b7df5782a0",
   "metadata": {},
   "outputs": [
    {
     "data": {
      "text/plain": [
       "22"
      ]
     },
     "execution_count": 2,
     "metadata": {},
     "output_type": "execute_result"
    }
   ],
   "source": [
    "bacon\n"
   ]
  },
  {
   "cell_type": "code",
   "execution_count": 3,
   "id": "c1231acc-2a0c-483d-9273-a8dafcfc4045",
   "metadata": {},
   "outputs": [
    {
     "data": {
      "text/plain": [
       "'spamspamspam'"
      ]
     },
     "execution_count": 3,
     "metadata": {},
     "output_type": "execute_result"
    }
   ],
   "source": [
    "'spam' + 'spamspam'\n",
    "'spam' * 3"
   ]
  },
  {
   "cell_type": "code",
   "execution_count": 4,
   "id": "657448a2-2b0f-496f-87b4-88a0841978ea",
   "metadata": {},
   "outputs": [
    {
     "data": {
      "text/plain": [
       "'spamspamspam'"
      ]
     },
     "execution_count": 4,
     "metadata": {},
     "output_type": "execute_result"
    }
   ],
   "source": [
    "'spam' + 'spamspam'"
   ]
  },
  {
   "cell_type": "code",
   "execution_count": 5,
   "id": "d9f0ac79-7b82-4901-a9a9-300b84d91261",
   "metadata": {},
   "outputs": [
    {
     "data": {
      "text/plain": [
       "'spamspamspam'"
      ]
     },
     "execution_count": 5,
     "metadata": {},
     "output_type": "execute_result"
    }
   ],
   "source": [
    "'spam' * 3"
   ]
  },
  {
   "cell_type": "code",
   "execution_count": 7,
   "id": "7888e90a-8189-4a98-aa61-498cf626290a",
   "metadata": {},
   "outputs": [
    {
     "data": {
      "text/plain": [
       "'I have eaten 99 burritos.'"
      ]
     },
     "execution_count": 7,
     "metadata": {},
     "output_type": "execute_result"
    }
   ],
   "source": [
    "'I have eaten ' + str(99) + ' burritos.'"
   ]
  },
  {
   "cell_type": "code",
   "execution_count": null,
   "id": "bedc193e-b9ce-486f-bfb3-3166f3fd2221",
   "metadata": {},
   "outputs": [],
   "source": []
  }
 ],
 "metadata": {
  "kernelspec": {
   "display_name": "Python 3 (ipykernel)",
   "language": "python",
   "name": "python3"
  },
  "language_info": {
   "codemirror_mode": {
    "name": "ipython",
    "version": 3
   },
   "file_extension": ".py",
   "mimetype": "text/x-python",
   "name": "python",
   "nbconvert_exporter": "python",
   "pygments_lexer": "ipython3",
   "version": "3.10.6"
  }
 },
 "nbformat": 4,
 "nbformat_minor": 5
}
